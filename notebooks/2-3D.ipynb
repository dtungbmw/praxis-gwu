{
 "cells": [
  {
   "cell_type": "code",
   "execution_count": 5,
   "id": "09d77b1e-38ae-4d3a-8104-ff4f438261b7",
   "metadata": {},
   "outputs": [
    {
     "name": "stdout",
     "output_type": "stream",
     "text": [
      "Requirement already satisfied: timm in /Users/davidtung/anaconda3/lib/python3.10/site-packages (1.0.7)\n",
      "Requirement already satisfied: pyyaml in /Users/davidtung/anaconda3/lib/python3.10/site-packages (from timm) (5.4.1)\n",
      "Requirement already satisfied: torchvision in /Users/davidtung/anaconda3/lib/python3.10/site-packages (from timm) (0.17.2)\n",
      "Requirement already satisfied: safetensors in /Users/davidtung/anaconda3/lib/python3.10/site-packages (from timm) (0.4.3)\n",
      "Requirement already satisfied: huggingface_hub in /Users/davidtung/anaconda3/lib/python3.10/site-packages (from timm) (0.24.1)\n",
      "Requirement already satisfied: torch in /Users/davidtung/anaconda3/lib/python3.10/site-packages (from timm) (2.2.2)\n",
      "Requirement already satisfied: fsspec>=2023.5.0 in /Users/davidtung/anaconda3/lib/python3.10/site-packages (from huggingface_hub->timm) (2024.6.1)\n",
      "Requirement already satisfied: filelock in /Users/davidtung/anaconda3/lib/python3.10/site-packages (from huggingface_hub->timm) (3.9.0)\n",
      "Requirement already satisfied: packaging>=20.9 in /Users/davidtung/anaconda3/lib/python3.10/site-packages (from huggingface_hub->timm) (22.0)\n",
      "Requirement already satisfied: tqdm>=4.42.1 in /Users/davidtung/anaconda3/lib/python3.10/site-packages (from huggingface_hub->timm) (4.64.1)\n",
      "Requirement already satisfied: requests in /Users/davidtung/anaconda3/lib/python3.10/site-packages (from huggingface_hub->timm) (2.28.1)\n",
      "Requirement already satisfied: typing-extensions>=3.7.4.3 in /Users/davidtung/anaconda3/lib/python3.10/site-packages (from huggingface_hub->timm) (4.12.2)\n",
      "Requirement already satisfied: networkx in /Users/davidtung/anaconda3/lib/python3.10/site-packages (from torch->timm) (2.8.4)\n",
      "Requirement already satisfied: sympy in /Users/davidtung/anaconda3/lib/python3.10/site-packages (from torch->timm) (1.11.1)\n",
      "Requirement already satisfied: jinja2 in /Users/davidtung/anaconda3/lib/python3.10/site-packages (from torch->timm) (3.0.3)\n",
      "Requirement already satisfied: numpy in /Users/davidtung/anaconda3/lib/python3.10/site-packages (from torchvision->timm) (1.23.5)\n",
      "Requirement already satisfied: pillow!=8.3.*,>=5.3.0 in /Users/davidtung/anaconda3/lib/python3.10/site-packages (from torchvision->timm) (9.4.0)\n",
      "Requirement already satisfied: MarkupSafe>=2.0 in /Users/davidtung/anaconda3/lib/python3.10/site-packages (from jinja2->torch->timm) (2.1.1)\n",
      "Requirement already satisfied: certifi>=2017.4.17 in /Users/davidtung/anaconda3/lib/python3.10/site-packages (from requests->huggingface_hub->timm) (2023.5.7)\n",
      "Requirement already satisfied: urllib3<1.27,>=1.21.1 in /Users/davidtung/anaconda3/lib/python3.10/site-packages (from requests->huggingface_hub->timm) (1.26.14)\n",
      "Requirement already satisfied: charset-normalizer<3,>=2 in /Users/davidtung/anaconda3/lib/python3.10/site-packages (from requests->huggingface_hub->timm) (2.0.4)\n",
      "Requirement already satisfied: idna<4,>=2.5 in /Users/davidtung/anaconda3/lib/python3.10/site-packages (from requests->huggingface_hub->timm) (3.4)\n",
      "Requirement already satisfied: mpmath>=0.19 in /Users/davidtung/anaconda3/lib/python3.10/site-packages/mpmath-1.2.1-py3.10.egg (from sympy->torch->timm) (1.2.1)\n"
     ]
    }
   ],
   "source": [
    "!pip install timm"
   ]
  },
  {
   "cell_type": "code",
   "execution_count": 6,
   "id": "8f8a0118-b104-464a-adb1-77bfb7ea53fd",
   "metadata": {},
   "outputs": [
    {
     "name": "stderr",
     "output_type": "stream",
     "text": [
      "Using cache found in /Users/davidtung/.cache/torch/hub/intel-isl_MiDaS_master\n"
     ]
    },
    {
     "ename": "ModuleNotFoundError",
     "evalue": "No module named 'midas.dpt_depth'",
     "output_type": "error",
     "traceback": [
      "\u001b[0;31m---------------------------------------------------------------------------\u001b[0m",
      "\u001b[0;31mModuleNotFoundError\u001b[0m                       Traceback (most recent call last)",
      "Cell \u001b[0;32mIn[6], line 8\u001b[0m\n\u001b[1;32m      3\u001b[0m \u001b[38;5;28;01mfrom\u001b[39;00m \u001b[38;5;21;01mPIL\u001b[39;00m \u001b[38;5;28;01mimport\u001b[39;00m Image\n\u001b[1;32m      4\u001b[0m \u001b[38;5;66;03m#from midas.model_loader import load_model\u001b[39;00m\n\u001b[1;32m      5\u001b[0m \n\u001b[1;32m      6\u001b[0m \u001b[38;5;66;03m# Load MiDaS model for depth estimation\u001b[39;00m\n\u001b[1;32m      7\u001b[0m \u001b[38;5;66;03m#depth_model = load_model(\"DPT_Large\")\u001b[39;00m\n\u001b[0;32m----> 8\u001b[0m depth_model \u001b[38;5;241m=\u001b[39m \u001b[43mtorch\u001b[49m\u001b[38;5;241;43m.\u001b[39;49m\u001b[43mhub\u001b[49m\u001b[38;5;241;43m.\u001b[39;49m\u001b[43mload\u001b[49m\u001b[43m(\u001b[49m\u001b[38;5;124;43m\"\u001b[39;49m\u001b[38;5;124;43mintel-isl/MiDaS\u001b[39;49m\u001b[38;5;124;43m\"\u001b[39;49m\u001b[43m,\u001b[49m\u001b[43m \u001b[49m\u001b[38;5;124;43m\"\u001b[39;49m\u001b[38;5;124;43mMiDaS_small\u001b[39;49m\u001b[38;5;124;43m\"\u001b[39;49m\u001b[43m)\u001b[49m\n\u001b[1;32m      9\u001b[0m depth_model\u001b[38;5;241m.\u001b[39meval()\n\u001b[1;32m     11\u001b[0m \u001b[38;5;66;03m# Load an object detection model (e.g., Faster R-CNN)\u001b[39;00m\n",
      "File \u001b[0;32m~/anaconda3/lib/python3.10/site-packages/torch/hub.py:566\u001b[0m, in \u001b[0;36mload\u001b[0;34m(repo_or_dir, model, source, trust_repo, force_reload, verbose, skip_validation, *args, **kwargs)\u001b[0m\n\u001b[1;32m    562\u001b[0m \u001b[38;5;28;01mif\u001b[39;00m source \u001b[38;5;241m==\u001b[39m \u001b[38;5;124m'\u001b[39m\u001b[38;5;124mgithub\u001b[39m\u001b[38;5;124m'\u001b[39m:\n\u001b[1;32m    563\u001b[0m     repo_or_dir \u001b[38;5;241m=\u001b[39m _get_cache_or_reload(repo_or_dir, force_reload, trust_repo, \u001b[38;5;124m\"\u001b[39m\u001b[38;5;124mload\u001b[39m\u001b[38;5;124m\"\u001b[39m,\n\u001b[1;32m    564\u001b[0m                                        verbose\u001b[38;5;241m=\u001b[39mverbose, skip_validation\u001b[38;5;241m=\u001b[39mskip_validation)\n\u001b[0;32m--> 566\u001b[0m model \u001b[38;5;241m=\u001b[39m \u001b[43m_load_local\u001b[49m\u001b[43m(\u001b[49m\u001b[43mrepo_or_dir\u001b[49m\u001b[43m,\u001b[49m\u001b[43m \u001b[49m\u001b[43mmodel\u001b[49m\u001b[43m,\u001b[49m\u001b[43m \u001b[49m\u001b[38;5;241;43m*\u001b[39;49m\u001b[43margs\u001b[49m\u001b[43m,\u001b[49m\u001b[43m \u001b[49m\u001b[38;5;241;43m*\u001b[39;49m\u001b[38;5;241;43m*\u001b[39;49m\u001b[43mkwargs\u001b[49m\u001b[43m)\u001b[49m\n\u001b[1;32m    567\u001b[0m \u001b[38;5;28;01mreturn\u001b[39;00m model\n",
      "File \u001b[0;32m~/anaconda3/lib/python3.10/site-packages/torch/hub.py:592\u001b[0m, in \u001b[0;36m_load_local\u001b[0;34m(hubconf_dir, model, *args, **kwargs)\u001b[0m\n\u001b[1;32m    590\u001b[0m \u001b[38;5;28;01mwith\u001b[39;00m _add_to_sys_path(hubconf_dir):\n\u001b[1;32m    591\u001b[0m     hubconf_path \u001b[38;5;241m=\u001b[39m os\u001b[38;5;241m.\u001b[39mpath\u001b[38;5;241m.\u001b[39mjoin(hubconf_dir, MODULE_HUBCONF)\n\u001b[0;32m--> 592\u001b[0m     hub_module \u001b[38;5;241m=\u001b[39m \u001b[43m_import_module\u001b[49m\u001b[43m(\u001b[49m\u001b[43mMODULE_HUBCONF\u001b[49m\u001b[43m,\u001b[49m\u001b[43m \u001b[49m\u001b[43mhubconf_path\u001b[49m\u001b[43m)\u001b[49m\n\u001b[1;32m    594\u001b[0m     entry \u001b[38;5;241m=\u001b[39m _load_entry_from_hubconf(hub_module, model)\n\u001b[1;32m    595\u001b[0m     model \u001b[38;5;241m=\u001b[39m entry(\u001b[38;5;241m*\u001b[39margs, \u001b[38;5;241m*\u001b[39m\u001b[38;5;241m*\u001b[39mkwargs)\n",
      "File \u001b[0;32m~/anaconda3/lib/python3.10/site-packages/torch/hub.py:106\u001b[0m, in \u001b[0;36m_import_module\u001b[0;34m(name, path)\u001b[0m\n\u001b[1;32m    104\u001b[0m module \u001b[38;5;241m=\u001b[39m importlib\u001b[38;5;241m.\u001b[39mutil\u001b[38;5;241m.\u001b[39mmodule_from_spec(spec)\n\u001b[1;32m    105\u001b[0m \u001b[38;5;28;01massert\u001b[39;00m \u001b[38;5;28misinstance\u001b[39m(spec\u001b[38;5;241m.\u001b[39mloader, Loader)\n\u001b[0;32m--> 106\u001b[0m \u001b[43mspec\u001b[49m\u001b[38;5;241;43m.\u001b[39;49m\u001b[43mloader\u001b[49m\u001b[38;5;241;43m.\u001b[39;49m\u001b[43mexec_module\u001b[49m\u001b[43m(\u001b[49m\u001b[43mmodule\u001b[49m\u001b[43m)\u001b[49m\n\u001b[1;32m    107\u001b[0m \u001b[38;5;28;01mreturn\u001b[39;00m module\n",
      "File \u001b[0;32m<frozen importlib._bootstrap_external>:883\u001b[0m, in \u001b[0;36mexec_module\u001b[0;34m(self, module)\u001b[0m\n",
      "File \u001b[0;32m<frozen importlib._bootstrap>:241\u001b[0m, in \u001b[0;36m_call_with_frames_removed\u001b[0;34m(f, *args, **kwds)\u001b[0m\n",
      "File \u001b[0;32m~/.cache/torch/hub/intel-isl_MiDaS_master/hubconf.py:5\u001b[0m\n\u001b[1;32m      1\u001b[0m dependencies \u001b[38;5;241m=\u001b[39m [\u001b[38;5;124m\"\u001b[39m\u001b[38;5;124mtorch\u001b[39m\u001b[38;5;124m\"\u001b[39m]\n\u001b[1;32m      3\u001b[0m \u001b[38;5;28;01mimport\u001b[39;00m \u001b[38;5;21;01mtorch\u001b[39;00m\n\u001b[0;32m----> 5\u001b[0m \u001b[38;5;28;01mfrom\u001b[39;00m \u001b[38;5;21;01mmidas\u001b[39;00m\u001b[38;5;21;01m.\u001b[39;00m\u001b[38;5;21;01mdpt_depth\u001b[39;00m \u001b[38;5;28;01mimport\u001b[39;00m DPTDepthModel\n\u001b[1;32m      6\u001b[0m \u001b[38;5;28;01mfrom\u001b[39;00m \u001b[38;5;21;01mmidas\u001b[39;00m\u001b[38;5;21;01m.\u001b[39;00m\u001b[38;5;21;01mmidas_net\u001b[39;00m \u001b[38;5;28;01mimport\u001b[39;00m MidasNet\n\u001b[1;32m      7\u001b[0m \u001b[38;5;28;01mfrom\u001b[39;00m \u001b[38;5;21;01mmidas\u001b[39;00m\u001b[38;5;21;01m.\u001b[39;00m\u001b[38;5;21;01mmidas_net_custom\u001b[39;00m \u001b[38;5;28;01mimport\u001b[39;00m MidasNet_small\n",
      "\u001b[0;31mModuleNotFoundError\u001b[0m: No module named 'midas.dpt_depth'"
     ]
    }
   ],
   "source": [
    "import torch\n",
    "from torchvision import models, transforms\n",
    "from PIL import Image\n",
    "#from midas.model_loader import load_model\n",
    "\n",
    "# Load MiDaS model for depth estimation\n",
    "#depth_model = load_model(\"DPT_Large\")\n",
    "depth_model = torch.hub.load(\"intel-isl/MiDaS\", \"MiDaS_small\")\n",
    "depth_model.eval()\n",
    "\n",
    "# Load an object detection model (e.g., Faster R-CNN)\n",
    "detection_model = models.detection.fasterrcnn_resnet50_fpn(pretrained=True)\n",
    "detection_model.eval()\n",
    "\n",
    "# Load and preprocess the image\n",
    "image_path = \"path_to_your_image.jpg\"\n",
    "image = Image.open(image_path)\n",
    "transform = transforms.Compose([\n",
    "    transforms.Resize((384, 384)),\n",
    "    transforms.ToTensor(),\n",
    "    transforms.Normalize(mean=[0.485, 0.456, 0.406], std=[0.229, 0.224, 0.225]),\n",
    "])\n",
    "img_tensor = transform(image).unsqueeze(0)\n",
    "\n",
    "\n"
   ]
  },
  {
   "cell_type": "code",
   "execution_count": null,
   "id": "73a4b7be-c23a-44ec-81d9-4e0176f58534",
   "metadata": {},
   "outputs": [],
   "source": [
    "# Run depth estimation\n",
    "with torch.no_grad():\n",
    "    depth_map = depth_model(img_tensor).squeeze().cpu().numpy()\n",
    "\n",
    "# Run object detection\n",
    "with torch.no_grad():\n",
    "    detections = detection_model(img_tensor)\n"
   ]
  },
  {
   "cell_type": "code",
   "execution_count": null,
   "id": "39201155-d419-4a40-8d67-734d9ed2a2a9",
   "metadata": {},
   "outputs": [],
   "source": [
    "# Example: Process first detection (assuming it's the object of interest)\n",
    "if len(detections[0]['boxes']) > 0:\n",
    "    box = detections[0]['boxes'][0].cpu().numpy()\n",
    "    x_min, y_min, x_max, y_max = box\n",
    "\n",
    "    # Estimate depth at the center of the bounding box\n",
    "    center_x = int((x_min + x_max) / 2)\n",
    "    center_y = int((y_min + y_max) / 2)\n",
    "    object_depth = depth_map[center_y, center_x]\n",
    "\n",
    "    # Approximate 3D location (using estimated depth and camera assumptions)\n",
    "    f = 800  # Assumed focal length\n",
    "    c_x, c_y = 320, 240  # Assumed principal point (image center)\n",
    "\n",
    "    X = (center_x - c_x) * object_depth / f\n",
    "    Y = (center_y - c_y) * object_depth / f\n",
    "    Z = object_depth\n",
    "\n",
    "    print(f\"Estimated 3D Location: X={X}, Y={Y}, Z={Z}\")\n"
   ]
  }
 ],
 "metadata": {
  "kernelspec": {
   "display_name": "Python 3 (ipykernel)",
   "language": "python",
   "name": "python3"
  },
  "language_info": {
   "codemirror_mode": {
    "name": "ipython",
    "version": 3
   },
   "file_extension": ".py",
   "mimetype": "text/x-python",
   "name": "python",
   "nbconvert_exporter": "python",
   "pygments_lexer": "ipython3",
   "version": "3.10.9"
  }
 },
 "nbformat": 4,
 "nbformat_minor": 5
}
